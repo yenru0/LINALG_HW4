{
 "cells": [
  {
   "cell_type": "code",
   "id": "initial_id",
   "metadata": {
    "collapsed": true,
    "ExecuteTime": {
     "end_time": "2024-10-28T16:42:23.372897Z",
     "start_time": "2024-10-28T16:42:22.836988Z"
    }
   },
   "source": [
    "import matplotlib.pyplot as plt\n",
    "import numpy as np\n",
    "\n",
    "from PIL import Image"
   ],
   "outputs": [],
   "execution_count": 1
  },
  {
   "metadata": {},
   "cell_type": "markdown",
   "source": [
    "# Quadratic Function Fitting using Least Squares\n",
    "\n",
    "$$y=ax^2+bx+c$$\n",
    "\n",
    "Find a, b, c  using LS by given 11 2D points, and plot it."
   ],
   "id": "d5dec2a10995a350"
  },
  {
   "metadata": {},
   "cell_type": "code",
   "outputs": [],
   "execution_count": null,
   "source": [
    "PointsX = np.array([-5, -4, -3, -2, -1, 0, 1, 2, 3, 4, 5], dtype=np.float64)\n",
    "PointsY = np.array([2.8, 1.0, -1.0, -2.3, -2.7, -3.0, -3.2, -2.0, -1.0, 0.4, 3.0], dtype=np.float64)\n",
    "Weights = np.array([1, 1, 1, 3, 3, 3, 3, 3, 1, 1, 1], dtype=np.float64)"
   ],
   "id": "8765b9e5ba933819"
  },
  {
   "metadata": {},
   "cell_type": "markdown",
   "source": [
    "# Multi-lines Fitting using Least Squares\n",
    "\n",
    "$y=ax+b$\n",
    "\n",
    "Find $a$, $b$ using LS: Find the intersections of red and green respectively.\n",
    "\n",
    "## How to do?\n",
    "1. Select some 2D points at pixel coordinates on the same line, and find the optimal line equation using LS\n",
    "2. Repeat 1 for other lines in the same direction\n",
    "3. Find the intersections of lines in (1)-(2) in the same direction\n",
    "4. Repeat (1)-(3) for other directions(red/green)"
   ],
   "id": "95bff37f96f7d02a"
  },
  {
   "metadata": {},
   "cell_type": "code",
   "outputs": [],
   "execution_count": null,
   "source": "",
   "id": "5abcc2ac0efdfea4"
  }
 ],
 "metadata": {
  "kernelspec": {
   "display_name": "Python 3",
   "language": "python",
   "name": "python3"
  },
  "language_info": {
   "codemirror_mode": {
    "name": "ipython",
    "version": 2
   },
   "file_extension": ".py",
   "mimetype": "text/x-python",
   "name": "python",
   "nbconvert_exporter": "python",
   "pygments_lexer": "ipython2",
   "version": "2.7.6"
  }
 },
 "nbformat": 4,
 "nbformat_minor": 5
}
